{
 "cells": [
  {
   "cell_type": "code",
   "execution_count": 4,
   "id": "7d8d2d8c",
   "metadata": {},
   "outputs": [],
   "source": [
    "import cv2"
   ]
  },
  {
   "cell_type": "code",
   "execution_count": 5,
   "id": "d1aff1d0",
   "metadata": {},
   "outputs": [],
   "source": [
    "car_classifier=cv2.CascadeClassifier(\"./cars.xml\")"
   ]
  },
  {
   "cell_type": "code",
   "execution_count": 6,
   "id": "a3410d5d",
   "metadata": {},
   "outputs": [],
   "source": [
    "vid= cv2.VideoCapture(\"./image_examples_cars.avi\")"
   ]
  },
  {
   "cell_type": "code",
   "execution_count": 7,
   "id": "c2c7fa01",
   "metadata": {},
   "outputs": [],
   "source": [
    "while True:\n",
    "    ret,frame=vid.read()\n",
    "\n",
    "    if ret==False:\n",
    "        break\n",
    "    gray=cv2.cvtColor(frame,cv2.COLOR_BGR2GRAY) #faster \n",
    "\n",
    "    car=car_classifier.detectMultiScale(gray,1.04985,6)\n",
    "\n",
    "    for (x,y,w,h) in car:\n",
    "        cv2.rectangle(frame,(x,y),(x+w,y+h),(0,0,255),2)\n",
    "\n",
    "        cv2.imshow('Car Detection',frame)\n",
    "    if cv2.waitKey(1) & 0xFF == ord(\"q\"):\n",
    "        break\n",
    "vid.release()\n",
    "cv2.destroyAllWindows()"
   ]
  }
 ],
 "metadata": {
  "kernelspec": {
   "display_name": "Python 3.8.7 64-bit",
   "language": "python",
   "name": "python3"
  },
  "language_info": {
   "codemirror_mode": {
    "name": "ipython",
    "version": 3
   },
   "file_extension": ".py",
   "mimetype": "text/x-python",
   "name": "python",
   "nbconvert_exporter": "python",
   "pygments_lexer": "ipython3",
   "version": "3.8.7"
  },
  "vscode": {
   "interpreter": {
    "hash": "52634da84371cba311ea128a5ea7cdc41ff074b781779e754b270ff9f8153cee"
   }
  }
 },
 "nbformat": 4,
 "nbformat_minor": 5
}
